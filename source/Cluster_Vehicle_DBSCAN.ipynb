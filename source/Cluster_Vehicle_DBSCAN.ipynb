{
 "cells": [
  {
   "cell_type": "code",
   "execution_count": 1,
   "metadata": {},
   "outputs": [],
   "source": [
    "import pandas as pd\n",
    "import numpy as np\n",
    "import folium\n",
    "import matplotlib.pyplot as plt\n",
    "import math\n",
    "import random\n",
    "from sklearn.cluster import DBSCAN\n",
    "from mlxtend.frequent_patterns import apriori, association_rules \n",
    "import warnings\n",
    "warnings.filterwarnings(\"ignore\")\n",
    "from sklearn.neighbors import DistanceMetric\n",
    "from math import radians"
   ]
  },
  {
   "cell_type": "markdown",
   "metadata": {},
   "source": [
    "## Đọc file dữ liệu"
   ]
  },
  {
   "cell_type": "markdown",
   "metadata": {},
   "source": [
    "Tệp dữ liệu là tệp data_pre.csv chứa các thông tin liên quan đến các xe và lộ trình thời gian và không gian của chúng trong một khoảng thời gian tại một khu vực"
   ]
  },
  {
   "cell_type": "code",
   "execution_count": 2,
   "metadata": {},
   "outputs": [],
   "source": [
    "df_vehicle = pd.read_csv(\"data_pre.csv\")"
   ]
  },
  {
   "cell_type": "code",
   "execution_count": 4,
   "metadata": {},
   "outputs": [
    {
     "data": {
      "text/plain": [
       "vehicle              object\n",
       "level_1               int64\n",
       "datetime             object\n",
       "speed               float64\n",
       "y                   float64\n",
       "x                   float64\n",
       "heading             float64\n",
       "vehicleType           int64\n",
       "time_interval       float64\n",
       "distance            float64\n",
       "heading_interval    float64\n",
       "dtype: object"
      ]
     },
     "execution_count": 4,
     "metadata": {},
     "output_type": "execute_result"
    }
   ],
   "source": [
    "df_vehicle.dtypes"
   ]
  },
  {
   "cell_type": "code",
   "execution_count": 5,
   "metadata": {},
   "outputs": [],
   "source": [
    "df_vehicle['datetime'] = pd.to_datetime(df_vehicle['datetime'])"
   ]
  },
  {
   "cell_type": "code",
   "execution_count": 6,
   "metadata": {},
   "outputs": [
    {
     "data": {
      "text/plain": [
       "vehicle                     object\n",
       "level_1                      int64\n",
       "datetime            datetime64[ns]\n",
       "speed                      float64\n",
       "y                          float64\n",
       "x                          float64\n",
       "heading                    float64\n",
       "vehicleType                  int64\n",
       "time_interval              float64\n",
       "distance                   float64\n",
       "heading_interval           float64\n",
       "dtype: object"
      ]
     },
     "execution_count": 6,
     "metadata": {},
     "output_type": "execute_result"
    }
   ],
   "source": [
    "df_vehicle.dtypes"
   ]
  },
  {
   "cell_type": "code",
   "execution_count": 7,
   "metadata": {},
   "outputs": [],
   "source": [
    "df = df_vehicle.set_index('datetime')"
   ]
  },
  {
   "cell_type": "markdown",
   "metadata": {},
   "source": [
    "### Tách tổng thời gian của các xe thành các cụm 300s"
   ]
  },
  {
   "cell_type": "code",
   "execution_count": null,
   "metadata": {},
   "outputs": [],
   "source": [
    "groupedby_minute = df.groupby(pd.Grouper(freq='300s')).count()"
   ]
  },
  {
   "cell_type": "code",
   "execution_count": 9,
   "metadata": {},
   "outputs": [
    {
     "data": {
      "text/plain": [
       "<AxesSubplot:xlabel='datetime'>"
      ]
     },
     "execution_count": 9,
     "metadata": {},
     "output_type": "execute_result"
    },
    {
     "data": {
      "image/png": "[encoded data removed]",
      "text/plain": [
       "<Figure size 720x360 with 1 Axes>"
      ]
     },
     "metadata": {
      "needs_background": "light"
     },
     "output_type": "display_data"
    }
   ],
   "source": [
    "groupedby_minute['vehicle'].plot(kind='bar',figsize=(10,5))"
   ]
  },
  {
   "cell_type": "markdown",
   "metadata": {},
   "source": [
    "### Hàm tính khoảng cách giữa 2 tọa độ di chuyển của các xe"
   ]
  },
  {
   "cell_type": "code",
   "execution_count": 10,
   "metadata": {},
   "outputs": [],
   "source": [
    "def Distance(p1, p2):\n",
    "\n",
    "    # GEPoint2D p1, GEPoint2D p2\n",
    "\n",
    "    if p1.x == p2.x and p1.y == p2.y:\n",
    "        return 0\n",
    "\n",
    "    dbLat1InRad = p1.y * (math.pi / 180.0)\n",
    "    dbLong1InRad = p1.x * (math.pi / 180.0)\n",
    "    dbLat2InRad = p2.y * (math.pi / 180.0)\n",
    "    dbLong2InRad = p2.x * (math.pi / 180.0)\n",
    "\n",
    "    dbTheta = p1.x - p2.x\n",
    "    dbThetaInRad = dbTheta * (math.pi / 180.0)\n",
    "\n",
    "    a = math.sin(dbLat1InRad)\n",
    "    b = math.sin(dbLat2InRad)\n",
    "    c = math.cos(dbLat1InRad)\n",
    "    d = math.cos(dbLat2InRad)\n",
    "    e = math.cos(dbThetaInRad)\n",
    "    f = a * b + c * d * e\n",
    "\n",
    "    if f > 1:\n",
    "        f = 1\n",
    "    if f < -1:\n",
    "        f = -1\n",
    "\n",
    "    dbDistInRad = math.acos(f)\n",
    "    dbDist = dbDistInRad * 180.0 / math.pi\n",
    "    dbDist = dbDist * 60.0 * 1.1515\n",
    "    dbDist = dbDist * 1.609344 * 1000\n",
    "\n",
    "    return dbDist"
   ]
  },
  {
   "cell_type": "markdown",
   "metadata": {},
   "source": [
    "### Hàm tạo ma trận khoảng cách giữa tất cả các tọa độ xuất hiện của các xe"
   ]
  },
  {
   "cell_type": "code",
   "execution_count": 11,
   "metadata": {},
   "outputs": [],
   "source": [
    "def distance_matrix(df):\n",
    "    dist = DistanceMetric.get_metric('haversine')\n",
    "    new_df = df.copy()\n",
    "    new_df['x'] = np.radians(new_df['x'])\n",
    "    new_df['y'] = np.radians(new_df['y'])\n",
    "    dm1 = dist.pairwise(new_df[['y','x']].to_numpy())*6373\n",
    "    dm1 = dm1*1000\n",
    "    return dm1.tolist()"
   ]
  },
  {
   "cell_type": "code",
   "execution_count": 12,
   "metadata": {},
   "outputs": [
    {
     "data": {
      "text/plain": [
       "5856"
      ]
     },
     "execution_count": 12,
     "metadata": {},
     "output_type": "execute_result"
    }
   ],
   "source": [
    "len(df_vehicle['vehicle'].unique())"
   ]
  },
  {
   "cell_type": "markdown",
   "metadata": {},
   "source": [
    "### Chia khung thời gian trong toàn bộ thời gian của dữ liệu thành 3 phần để so sánh"
   ]
  },
  {
   "cell_type": "code",
   "execution_count": 13,
   "metadata": {},
   "outputs": [],
   "source": [
    "df = df.sort_index()"
   ]
  },
  {
   "cell_type": "code",
   "execution_count": null,
   "metadata": {},
   "outputs": [],
   "source": [
    "df1 = df.loc[:'2018-04-24 18:15:00']"
   ]
  },
  {
   "cell_type": "code",
   "execution_count": 16,
   "metadata": {},
   "outputs": [],
   "source": [
    "df2 = df.loc['2018-04-24 18:15:00':'2018-04-24 21:00:00']"
   ]
  },
  {
   "cell_type": "code",
   "execution_count": null,
   "metadata": {},
   "outputs": [],
   "source": [
    "df2"
   ]
  },
  {
   "cell_type": "code",
   "execution_count": 18,
   "metadata": {},
   "outputs": [],
   "source": [
    "df3 = df.loc['2018-04-24 21:00:00':]"
   ]
  },
  {
   "cell_type": "markdown",
   "metadata": {},
   "source": [
    "### Hàm thực hiện thuật toán DBSCAN"
   ]
  },
  {
   "cell_type": "code",
   "execution_count": 20,
   "metadata": {},
   "outputs": [],
   "source": [
    "def DBScan_time_distance_df(df,start_time,end_time, step, eps):\n",
    "    '''\n",
    "    df: du lieu truyen vao\n",
    "    start_time: thoi gian bat dau tinh bang giay ke tu moc thoi gian gan nhat cua df\n",
    "    end_time: thoi gian ket thuc tinh bang giay ke tu moc thoi gian gan nhat cua df\n",
    "    step: buoc thoi gian moi lan gom cum (s)\n",
    "    eps: khoang cach gom cum\n",
    "    '''\n",
    "    \n",
    "    \n",
    "    index_start = int(start_time / step) # so thu tu cua thoi gian bat dau sau khi df da tach ra cac khoang thoi gian 20s\n",
    "    index_end = int(end_time / step) # so thu tu cua thoi gian ket thuc sau khi df da tach ra cac khoanng thoi gian 20s\n",
    "    if end_time == -1:\n",
    "        index_end = int((df['datetime'].max() - df['datetime'].min()).seconds /step)\n",
    "        \n",
    "    new_df = df.copy()\n",
    "    groupedby_minute = new_df.groupby(pd.Grouper(freq= str(step)+'s'))    # Chia df ra cac khoảng thời gian 20s\n",
    "    list_minutes = list(groupedby_minute.groups.keys()) # List các thời gian ban đầu cách nhau 20s\n",
    "    list_groupby_minutes = [groupedby_minute.get_group(time) for time in list_minutes] # List các dataframe con của df ứng với 20s\n",
    "    \n",
    "    # Neu index_start nho hon 0 chuyen ve 0\n",
    "    if index_start<0:\n",
    "        index_start = 0\n",
    "    # Neu index_end lon hơn số khoảng 20s chuyển về số khoảng đó\n",
    "    if index_end > len(list_minutes):\n",
    "        index_end = len(list_minutes)\n",
    "    if index_start > index_end:\n",
    "        index_start = index_end\n",
    "    list_df_cluster = []\n",
    "    if index_start==index_end:\n",
    "        for index,df_20 in enumerate(list_groupby_minutes[index_start:]):\n",
    "            print(index,type(df_20))\n",
    "            # Lập ma trận khoảng cách giữa các điểm\n",
    "            distanceMatrix = distance_matrix(df_20)\n",
    "            \n",
    "            # Sử dụng dbscan để phân cụm các xe\n",
    "            model = DBSCAN(eps=eps, min_samples=2,metric='precomputed').fit(distanceMatrix)\n",
    "            \n",
    "            df_20['CLUSTER_DBSCAN'] = model.labels_\n",
    "            df_20 = df_20[df_20['CLUSTER_DBSCAN']> -1]\n",
    "            class_predictions = [str(index)+'_'+str(index_start + item)  for item in df_20['CLUSTER_DBSCAN']]\n",
    "            df_20['CLUSTER_DBSCAN'] = class_predictions\n",
    "            list_df_cluster.append(df_20)\n",
    "    else:\n",
    "        for index,df_20 in enumerate(list_groupby_minutes[index_start:index_end]):\n",
    "            print(index,len(df_20))\n",
    "            # Lập ma trận khoảng cách giữa các điểm\n",
    "            distanceMatrix = distance_matrix(df_20.reset_index())\n",
    "            # Sử dụng dbscan để phân cụm các điểm\n",
    "            model = DBSCAN(eps=eps, min_samples=2,metric='precomputed').fit(distanceMatrix)\n",
    "            df_20['CLUSTER_DBSCAN'] = model.labels_\n",
    "            df_20 = df_20[df_20['CLUSTER_DBSCAN']> -1]\n",
    "            class_predictions = [str(index)+'_'+str(index_start + item)  for item in df_20['CLUSTER_DBSCAN']]\n",
    "            df_20['CLUSTER_DBSCAN'] = class_predictions\n",
    "            list_df_cluster.append(df_20)\n",
    "    return pd.concat(list_df_cluster)"
   ]
  },
  {
   "cell_type": "code",
   "execution_count": 21,
   "metadata": {},
   "outputs": [
    {
     "name": "stdout",
     "output_type": "stream",
     "text": [
      "0 238\n",
      "1 272\n",
      "2 267\n",
      "3 268\n",
      "4 273\n",
      "5 300\n",
      "6 251\n",
      "7 279\n",
      "8 293\n",
      "9 283\n",
      "10 314\n",
      "11 339\n",
      "12 323\n",
      "13 307\n",
      "14 327\n",
      "15 330\n",
      "16 289\n",
      "17 325\n",
      "18 294\n",
      "19 305\n",
      "20 309\n",
      "21 336\n",
      "22 356\n",
      "23 336\n",
      "24 300\n",
      "25 323\n",
      "26 331\n",
      "27 327\n",
      "28 278\n",
      "29 313\n",
      "30 329\n",
      "31 322\n",
      "32 326\n",
      "33 333\n",
      "34 302\n",
      "35 305\n",
      "36 326\n",
      "37 343\n",
      "38 334\n",
      "39 351\n",
      "40 342\n",
      "41 349\n",
      "42 322\n",
      "43 305\n",
      "44 350\n",
      "45 356\n",
      "46 345\n",
      "47 352\n",
      "48 328\n",
      "49 350\n",
      "50 343\n",
      "51 330\n",
      "52 342\n",
      "53 340\n",
      "54 365\n",
      "55 394\n",
      "56 336\n",
      "57 336\n",
      "58 369\n",
      "59 346\n",
      "60 354\n",
      "61 350\n",
      "62 383\n",
      "63 369\n",
      "64 360\n",
      "65 335\n",
      "66 366\n",
      "67 403\n",
      "68 399\n",
      "69 396\n",
      "70 417\n",
      "71 431\n",
      "72 385\n",
      "73 414\n",
      "74 428\n",
      "75 417\n",
      "76 410\n",
      "77 410\n",
      "78 376\n",
      "79 395\n",
      "80 399\n",
      "81 394\n",
      "82 426\n",
      "83 391\n",
      "84 400\n",
      "85 367\n",
      "86 375\n",
      "87 401\n",
      "88 366\n",
      "89 371\n",
      "90 364\n",
      "91 354\n",
      "92 386\n",
      "93 360\n",
      "94 338\n",
      "95 360\n",
      "96 360\n",
      "97 335\n",
      "98 368\n",
      "99 344\n",
      "100 331\n",
      "101 355\n",
      "102 331\n",
      "103 335\n",
      "104 328\n",
      "105 329\n",
      "106 333\n",
      "107 343\n",
      "108 316\n",
      "109 333\n",
      "110 328\n",
      "111 323\n",
      "112 326\n",
      "113 352\n",
      "114 339\n",
      "115 324\n",
      "116 319\n",
      "117 330\n",
      "118 306\n",
      "119 287\n",
      "120 303\n",
      "121 308\n",
      "122 315\n",
      "123 326\n",
      "124 319\n",
      "125 283\n",
      "126 318\n",
      "127 334\n",
      "128 305\n",
      "129 305\n",
      "130 305\n",
      "131 286\n",
      "132 297\n",
      "133 305\n",
      "134 286\n",
      "135 321\n",
      "136 320\n",
      "137 289\n",
      "138 306\n",
      "139 303\n",
      "140 273\n",
      "141 291\n",
      "142 286\n",
      "143 308\n",
      "144 293\n",
      "145 313\n",
      "146 324\n",
      "147 314\n",
      "148 317\n",
      "149 306\n",
      "150 314\n",
      "151 303\n",
      "152 288\n",
      "153 315\n",
      "154 309\n",
      "155 302\n",
      "156 325\n",
      "157 300\n",
      "158 313\n",
      "159 350\n",
      "160 311\n",
      "161 293\n",
      "162 302\n",
      "163 291\n",
      "164 293\n",
      "165 299\n",
      "166 302\n",
      "167 291\n",
      "168 306\n",
      "169 297\n",
      "170 311\n",
      "171 336\n",
      "172 300\n",
      "173 295\n",
      "174 315\n",
      "175 314\n",
      "176 316\n",
      "177 297\n",
      "178 302\n",
      "179 328\n",
      "180 308\n",
      "181 308\n",
      "182 290\n",
      "183 277\n",
      "184 264\n",
      "185 275\n",
      "186 237\n",
      "187 239\n",
      "188 248\n",
      "189 236\n",
      "190 243\n",
      "191 267\n",
      "192 247\n",
      "193 280\n",
      "194 286\n",
      "195 281\n",
      "196 274\n",
      "197 263\n",
      "198 242\n",
      "199 260\n",
      "200 260\n",
      "201 262\n",
      "202 258\n",
      "203 258\n",
      "204 255\n",
      "205 240\n",
      "206 267\n",
      "207 255\n",
      "208 249\n",
      "209 253\n",
      "210 256\n",
      "211 248\n",
      "212 275\n",
      "213 248\n",
      "214 257\n",
      "215 255\n",
      "216 241\n",
      "217 241\n",
      "218 230\n",
      "219 250\n",
      "220 233\n",
      "221 233\n",
      "222 213\n",
      "223 233\n",
      "224 234\n",
      "Wall time: 4.26 s\n"
     ]
    }
   ],
   "source": [
    "%%time\n",
    "df1_with_cluster = DBScan_time_distance_df(df1,0,4500,20,50)"
   ]
  },
  {
   "cell_type": "code",
   "execution_count": 23,
   "metadata": {},
   "outputs": [],
   "source": [
    "df1_with_cluster.to_csv('df1_1700_1815.csv')"
   ]
  },
  {
   "cell_type": "code",
   "execution_count": 24,
   "metadata": {
    "scrolled": false
   },
   "outputs": [
    {
     "name": "stdout",
     "output_type": "stream",
     "text": [
      "0 231\n",
      "1 200\n",
      "2 202\n",
      "3 186\n",
      "4 196\n",
      "5 195\n",
      "6 189\n",
      "7 208\n",
      "8 211\n",
      "9 157\n",
      "10 175\n",
      "11 170\n",
      "12 150\n",
      "13 164\n",
      "14 156\n",
      "15 153\n",
      "16 138\n",
      "17 151\n",
      "18 139\n",
      "19 137\n",
      "20 122\n",
      "21 128\n",
      "22 145\n",
      "23 148\n",
      "24 116\n",
      "25 137\n",
      "26 121\n",
      "27 112\n",
      "28 116\n",
      "29 109\n",
      "30 114\n",
      "31 112\n",
      "32 130\n",
      "33 117\n",
      "34 118\n",
      "35 130\n",
      "36 117\n",
      "37 108\n",
      "38 120\n",
      "39 111\n",
      "40 126\n",
      "41 131\n",
      "42 120\n",
      "43 152\n",
      "44 147\n",
      "45 131\n",
      "46 140\n",
      "47 139\n",
      "48 144\n",
      "49 144\n",
      "50 140\n",
      "51 136\n",
      "52 130\n",
      "53 158\n",
      "54 138\n",
      "55 150\n",
      "56 145\n",
      "57 144\n",
      "58 156\n",
      "59 151\n",
      "60 152\n",
      "61 154\n",
      "62 148\n",
      "63 150\n",
      "64 169\n",
      "65 178\n",
      "66 181\n",
      "67 165\n",
      "68 158\n",
      "69 173\n",
      "70 142\n",
      "71 152\n",
      "72 173\n",
      "73 164\n",
      "74 158\n",
      "75 152\n",
      "76 151\n",
      "77 175\n",
      "78 144\n",
      "79 137\n",
      "80 140\n",
      "81 153\n",
      "82 141\n",
      "83 146\n",
      "84 154\n",
      "85 130\n",
      "86 140\n",
      "87 122\n",
      "88 137\n",
      "89 134\n",
      "90 144\n",
      "91 123\n",
      "92 136\n",
      "93 135\n",
      "94 138\n",
      "95 162\n",
      "96 152\n",
      "97 145\n",
      "98 136\n",
      "99 137\n",
      "100 136\n",
      "101 139\n",
      "102 147\n",
      "103 130\n",
      "104 124\n",
      "105 123\n",
      "106 124\n",
      "107 129\n",
      "108 120\n",
      "109 138\n",
      "110 130\n",
      "111 147\n",
      "112 137\n",
      "113 126\n",
      "114 142\n",
      "115 144\n",
      "116 134\n",
      "117 140\n",
      "118 123\n",
      "119 138\n",
      "120 114\n",
      "121 128\n",
      "122 129\n",
      "123 113\n",
      "124 134\n",
      "125 141\n",
      "126 123\n",
      "127 149\n",
      "128 127\n",
      "129 138\n",
      "130 115\n",
      "131 124\n",
      "132 115\n",
      "133 137\n",
      "134 117\n",
      "135 120\n",
      "136 134\n",
      "137 153\n",
      "138 143\n",
      "139 130\n",
      "140 137\n",
      "141 136\n",
      "142 155\n",
      "143 133\n",
      "144 163\n",
      "145 153\n",
      "146 125\n",
      "147 122\n",
      "148 121\n",
      "149 141\n",
      "150 128\n",
      "151 158\n",
      "152 140\n",
      "153 127\n",
      "154 145\n",
      "155 132\n",
      "156 133\n",
      "157 112\n",
      "158 119\n",
      "159 100\n",
      "160 141\n",
      "161 121\n",
      "162 125\n",
      "163 144\n",
      "164 115\n",
      "165 106\n",
      "166 113\n",
      "167 123\n",
      "168 104\n",
      "169 119\n",
      "170 135\n",
      "171 125\n",
      "172 132\n",
      "173 120\n",
      "174 136\n",
      "175 127\n",
      "176 151\n",
      "177 113\n",
      "178 126\n",
      "179 102\n",
      "180 104\n",
      "181 110\n",
      "182 109\n",
      "183 102\n",
      "184 113\n",
      "185 107\n",
      "186 100\n",
      "187 113\n",
      "188 112\n",
      "189 117\n",
      "190 114\n",
      "191 111\n",
      "192 108\n",
      "193 117\n",
      "194 131\n",
      "195 114\n",
      "196 125\n",
      "197 131\n",
      "198 141\n",
      "199 137\n",
      "200 137\n",
      "201 142\n",
      "202 127\n",
      "203 135\n",
      "204 131\n",
      "205 116\n",
      "206 130\n",
      "207 116\n",
      "208 114\n",
      "209 130\n",
      "210 115\n",
      "211 110\n",
      "212 97\n",
      "213 111\n",
      "214 115\n",
      "215 122\n",
      "216 128\n",
      "217 127\n",
      "218 144\n",
      "219 132\n",
      "220 119\n",
      "221 135\n",
      "222 106\n",
      "223 104\n",
      "224 128\n",
      "225 110\n",
      "226 122\n",
      "227 145\n",
      "228 117\n",
      "229 127\n",
      "230 126\n",
      "231 101\n",
      "232 110\n",
      "233 132\n",
      "234 122\n",
      "235 126\n",
      "236 128\n",
      "237 129\n",
      "238 124\n",
      "239 129\n",
      "240 124\n",
      "241 123\n",
      "242 126\n",
      "243 105\n",
      "244 110\n",
      "245 135\n",
      "246 129\n",
      "247 120\n",
      "248 117\n",
      "249 111\n",
      "250 122\n",
      "251 110\n",
      "252 93\n",
      "253 107\n",
      "254 123\n",
      "255 117\n",
      "256 101\n",
      "257 122\n",
      "258 108\n",
      "259 110\n",
      "260 108\n",
      "261 108\n",
      "262 120\n",
      "263 92\n",
      "264 101\n",
      "265 114\n",
      "266 116\n",
      "267 116\n",
      "268 108\n",
      "269 106\n",
      "270 91\n",
      "271 82\n",
      "272 93\n",
      "273 92\n",
      "274 98\n",
      "275 84\n",
      "276 104\n",
      "277 106\n",
      "278 98\n",
      "279 104\n",
      "280 92\n",
      "281 112\n",
      "282 100\n",
      "283 101\n",
      "284 120\n",
      "285 101\n",
      "286 87\n",
      "287 99\n",
      "288 92\n",
      "289 82\n",
      "290 78\n",
      "291 82\n",
      "292 84\n",
      "293 93\n",
      "294 96\n",
      "295 89\n",
      "296 75\n",
      "297 82\n",
      "298 94\n",
      "299 100\n",
      "300 92\n",
      "301 96\n",
      "302 102\n",
      "303 95\n",
      "304 95\n",
      "305 95\n",
      "306 102\n",
      "307 103\n",
      "308 105\n",
      "309 110\n",
      "310 99\n",
      "311 94\n",
      "312 103\n",
      "313 104\n",
      "314 105\n",
      "315 84\n",
      "316 77\n",
      "317 88\n",
      "318 84\n",
      "319 91\n",
      "320 89\n",
      "321 83\n",
      "322 79\n",
      "323 81\n",
      "324 78\n",
      "325 87\n",
      "326 106\n",
      "327 79\n",
      "328 84\n",
      "329 86\n",
      "330 103\n",
      "331 107\n",
      "332 90\n",
      "333 99\n",
      "334 102\n",
      "335 103\n",
      "336 112\n",
      "337 117\n",
      "338 107\n",
      "339 104\n",
      "340 100\n",
      "341 91\n",
      "342 97\n",
      "343 94\n",
      "344 102\n",
      "345 99\n",
      "346 98\n",
      "347 88\n",
      "348 96\n",
      "349 92\n",
      "350 99\n",
      "351 101\n",
      "352 109\n",
      "353 109\n",
      "354 105\n",
      "355 115\n",
      "356 118\n",
      "357 99\n",
      "358 100\n",
      "359 115\n",
      "360 105\n",
      "361 100\n",
      "362 111\n",
      "363 101\n",
      "364 108\n",
      "365 107\n",
      "366 99\n",
      "367 99\n",
      "368 116\n",
      "369 100\n",
      "370 109\n",
      "371 113\n",
      "372 116\n",
      "373 112\n",
      "374 119\n",
      "375 121\n",
      "376 102\n",
      "377 110\n",
      "378 119\n",
      "379 93\n",
      "380 96\n",
      "381 111\n",
      "382 106\n",
      "383 100\n",
      "384 99\n",
      "385 99\n",
      "386 106\n",
      "387 90\n",
      "388 77\n",
      "389 86\n",
      "390 89\n",
      "391 85\n",
      "392 99\n",
      "393 112\n",
      "394 97\n",
      "395 88\n",
      "396 94\n",
      "397 114\n",
      "398 101\n",
      "399 95\n",
      "400 94\n",
      "401 111\n",
      "402 108\n",
      "403 101\n",
      "404 99\n",
      "405 114\n",
      "406 114\n",
      "407 104\n",
      "408 108\n",
      "409 107\n",
      "410 104\n",
      "411 115\n",
      "412 113\n",
      "413 120\n",
      "414 112\n",
      "415 102\n",
      "416 106\n",
      "417 116\n",
      "418 124\n",
      "419 100\n",
      "420 101\n",
      "421 99\n",
      "422 111\n",
      "423 102\n",
      "424 106\n",
      "425 117\n",
      "426 107\n",
      "427 81\n",
      "428 118\n",
      "429 110\n",
      "430 111\n",
      "431 104\n",
      "432 112\n",
      "433 100\n",
      "434 85\n",
      "435 101\n",
      "436 93\n",
      "437 98\n",
      "438 102\n",
      "439 84\n",
      "440 98\n",
      "441 102\n",
      "442 99\n",
      "443 89\n",
      "444 92\n",
      "445 98\n",
      "446 114\n",
      "447 89\n",
      "448 84\n",
      "449 100\n",
      "450 84\n",
      "451 103\n",
      "452 119\n",
      "453 99\n",
      "454 103\n",
      "455 106\n",
      "456 94\n",
      "457 99\n",
      "458 104\n",
      "459 91\n",
      "460 105\n",
      "461 100\n",
      "462 92\n",
      "463 106\n",
      "464 93\n",
      "465 121\n",
      "466 130\n",
      "467 106\n",
      "468 128\n",
      "469 116\n",
      "470 128\n",
      "471 122\n",
      "472 125\n",
      "473 132\n",
      "474 142\n",
      "475 123\n",
      "476 130\n",
      "477 126\n",
      "478 128\n",
      "479 110\n",
      "480 100\n",
      "481 114\n",
      "482 126\n",
      "483 119\n",
      "484 112\n",
      "485 134\n",
      "486 122\n",
      "487 145\n",
      "488 117\n",
      "489 125\n",
      "490 140\n",
      "491 133\n",
      "492 127\n",
      "493 144\n",
      "494 133\n",
      "Wall time: 3.4 s\n"
     ]
    }
   ],
   "source": [
    "%%time\n",
    "df2_with_cluster = DBScan_time_distance_df(df2,0,9900,20,50)"
   ]
  },
  {
   "cell_type": "code",
   "execution_count": null,
   "metadata": {},
   "outputs": [],
   "source": [
    "%%time\n",
    "df3_with_cluster = DBScan_time_distance_df(df3,0,10800,20,50)"
   ]
  },
  {
   "cell_type": "markdown",
   "metadata": {},
   "source": [
    "### Hàm thực hiện tìm các cụm của mỗi xe"
   ]
  },
  {
   "cell_type": "code",
   "execution_count": 26,
   "metadata": {},
   "outputs": [
    {
     "name": "stdout",
     "output_type": "stream",
     "text": [
      "Wall time: 23.7 s\n"
     ]
    }
   ],
   "source": [
    "%%time\n",
    "def vehicle_together(data):\n",
    "    list_vehicle = data['vehicle'].unique()\n",
    "    cluster_ID = {}\n",
    "    for vehicle in list_vehicle:\n",
    "        cluster_ID[vehicle] = data[data['vehicle'] == vehicle]['CLUSTER_DBSCAN'].unique() \n",
    "#     cluster_ID = [data[data['vehicle'] == i]['CLUSTER_DBSCAN'].unique() for i in list_vehicle]\n",
    "    \n",
    "    return cluster_ID\n",
    "\n",
    "list_vehicle_cluster_1 = vehicle_together(df1_with_cluster)\n",
    "list_vehicle_cluster_2 = vehicle_together(df2_with_cluster)\n",
    "list_vehicle_cluster_3 = vehicle_together(df3_with_cluster)"
   ]
  },
  {
   "cell_type": "code",
   "execution_count": null,
   "metadata": {},
   "outputs": [],
   "source": [
    "list_vehicle_cluster_1"
   ]
  },
  {
   "cell_type": "code",
   "execution_count": 28,
   "metadata": {},
   "outputs": [
    {
     "name": "stdout",
     "output_type": "stream",
     "text": [
      "Wall time: 678 ms\n"
     ]
    }
   ],
   "source": [
    "%%time\n",
    "df3_with_cluster.to_csv('df_cluster_2100.csv')"
   ]
  },
  {
   "cell_type": "code",
   "execution_count": 30,
   "metadata": {},
   "outputs": [
    {
     "name": "stdout",
     "output_type": "stream",
     "text": [
      "Wall time: 576 ms\n"
     ]
    }
   ],
   "source": [
    "%%time\n",
    "df1_with_cluster.to_csv(\"df2_1815_2100.csv\")"
   ]
  },
  {
   "cell_type": "markdown",
   "metadata": {},
   "source": [
    "### Hàm thực hiện chuẩn bị dữ liệu cho Thuật toán Apriori bằng phương pháp tạo ma trận của các xe với toàn bộ các cụm"
   ]
  },
  {
   "cell_type": "code",
   "execution_count": 31,
   "metadata": {},
   "outputs": [],
   "source": [
    "def apyori_data(data):\n",
    "    list_vehicle_cluster = vehicle_together(data)\n",
    "    matrix_vehicle = {}\n",
    "    for vehicle in data['vehicle'].unique():\n",
    "        matrix_vehicle[vehicle] = []\n",
    "    for vehicle in data['vehicle'].unique():\n",
    "        for cluster in data['CLUSTER_DBSCAN'].unique():\n",
    "            matrix_vehicle[vehicle].append(cluster in list_vehicle_cluster[vehicle])\n",
    "#             if cluster not in list_vehicle_cluster[vehicle]:\n",
    "#                 matrix_vehicle[vehicle].append(False)\n",
    "#             else:\n",
    "#                 matrix_vehicle[vehicle].append(True)\n",
    "    df_vehicle = pd.DataFrame.from_dict(matrix_vehicle, orient='index')\n",
    "    df_vehicle.columns = data['CLUSTER_DBSCAN'].unique()\n",
    "    return df_vehicle"
   ]
  },
  {
   "cell_type": "code",
   "execution_count": 32,
   "metadata": {},
   "outputs": [
    {
     "name": "stdout",
     "output_type": "stream",
     "text": [
      "Wall time: 3min 58s\n"
     ]
    }
   ],
   "source": [
    "%%time\n",
    "df_vehicle_1700_1815 = apyori_data(df1_with_cluster)\n",
    "df_vehicle_1700_1815.to_csv('df_cluster_vehicle_1700_1815.csv')\n",
    "df_vehicle_1815_2100 = apyori_data(df2_with_cluster)\n",
    "df_vehicle_1815_2100.to_csv('df_cluster_vehicle_1815_2100.csv')\n"
   ]
  },
  {
   "cell_type": "code",
   "execution_count": 33,
   "metadata": {},
   "outputs": [
    {
     "name": "stdout",
     "output_type": "stream",
     "text": [
      "Wall time: 6min 57s\n"
     ]
    }
   ],
   "source": [
    "%%time\n",
    "df_vehicle_2100 = apyori_data(df3_with_cluster)\n",
    "df_vehicle_2100.to_csv('df_cluster_vehicle_2100.csv')"
   ]
  },
  {
   "cell_type": "markdown",
   "metadata": {},
   "source": [
    "### Thực hiện thuật toán Apriori"
   ]
  },
  {
   "cell_type": "code",
   "execution_count": null,
   "metadata": {},
   "outputs": [],
   "source": [
    "%%time\n",
    "df_together_1 = apriori(df_vehicle_1700_1815.T, min_support=0.001, use_colnames=True,verbose=1) # 0.0008: 813 |\n"
   ]
  },
  {
   "cell_type": "code",
   "execution_count": null,
   "metadata": {},
   "outputs": [],
   "source": [
    "%%time\n",
    "df_together_2 = apriori(df_vehicle_1815_2100.T, min_support=0.001, use_colnames=True,verbose=1) # 0.0008: 813 |\n"
   ]
  },
  {
   "cell_type": "code",
   "execution_count": null,
   "metadata": {},
   "outputs": [],
   "source": [
    "%%time\n",
    "df_together_3 = apriori(df_vehicle_1815_2100.T, min_support=0.001, use_colnames=True,verbose=1) # 0.0008: 813 |\n"
   ]
  },
  {
   "cell_type": "code",
   "execution_count": 37,
   "metadata": {},
   "outputs": [],
   "source": [
    "# df_together_2.to_csv(\"df_together_2_1815_2100_001.csv\")"
   ]
  },
  {
   "cell_type": "code",
   "execution_count": 38,
   "metadata": {},
   "outputs": [],
   "source": [
    "# df_together_1.to_csv(\"df_together_1_1700_1815_001.csv\")"
   ]
  },
  {
   "cell_type": "code",
   "execution_count": 39,
   "metadata": {},
   "outputs": [],
   "source": [
    "# df_together_3.to_csv(\"df_together_3_2100_001.csv\")"
   ]
  },
  {
   "cell_type": "code",
   "execution_count": null,
   "metadata": {},
   "outputs": [],
   "source": [
    "df1"
   ]
  },
  {
   "cell_type": "code",
   "execution_count": 41,
   "metadata": {},
   "outputs": [],
   "source": [
    "df_together = pd.concat([df_together_1,df_together_2,df_together_3])"
   ]
  },
  {
   "cell_type": "code",
   "execution_count": 42,
   "metadata": {},
   "outputs": [
    {
     "data": {
      "text/plain": [
       "1910"
      ]
     },
     "execution_count": 42,
     "metadata": {},
     "output_type": "execute_result"
    }
   ],
   "source": [
    "len(df_together['itemsets'].unique())"
   ]
  },
  {
   "cell_type": "code",
   "execution_count": 43,
   "metadata": {},
   "outputs": [],
   "source": [
    "df_together.drop_duplicates(subset =\"itemsets\", inplace = True)"
   ]
  },
  {
   "cell_type": "markdown",
   "metadata": {},
   "source": [
    "### Cuối cùng ta tìm được các xe đi cùng nhau"
   ]
  },
  {
   "cell_type": "code",
   "execution_count": 44,
   "metadata": {},
   "outputs": [],
   "source": [
    "df_together['itemsets'] = df_together['itemsets'].apply(lambda x: list(x))"
   ]
  },
  {
   "cell_type": "code",
   "execution_count": 45,
   "metadata": {},
   "outputs": [],
   "source": [
    "df_together_02 = df_together[df_together['itemsets'].apply(len)==2]"
   ]
  },
  {
   "cell_type": "code",
   "execution_count": null,
   "metadata": {
    "scrolled": true
   },
   "outputs": [],
   "source": [
    "df_together_02"
   ]
  },
  {
   "cell_type": "code",
   "execution_count": 47,
   "metadata": {},
   "outputs": [],
   "source": [
    "df_vehicle = pd.read_csv(\"data_pre.csv\")"
   ]
  },
  {
   "cell_type": "code",
   "execution_count": 54,
   "metadata": {},
   "outputs": [
    {
     "name": "stdout",
     "output_type": "stream",
     "text": [
      "Wall time: 1.5 ms\n"
     ]
    }
   ],
   "source": [
    "%%time\n",
    "df_vehicle['label'] = 0\n",
    "\n",
    "# list_vehicle = list(set(df_vehicle.vehicle))\n",
    "# labels = random.sample(range(len(list_vehicle)+1), len(list_vehicle))\n",
    "# dict_label_vehicle = {}\n",
    "# for vehicle_id in range(len(list_vehicle)):\n",
    "#     for x in df_vehicle[df_vehicle['vehicle']==list_vehicle[vehicle_id]].index:\n",
    "#         df_vehicle.at[x,'label'] = labels[vehicle_id]\n",
    "#         dict_label_vehicle[list_vehicle[vehicle_id]] = labels[vehicle_id]"
   ]
  },
  {
   "cell_type": "code",
   "execution_count": 61,
   "metadata": {},
   "outputs": [
    {
     "name": "stdout",
     "output_type": "stream",
     "text": [
      "Wall time: 6.93 s\n"
     ]
    }
   ],
   "source": [
    "%%time\n",
    "for list_vehicle_together in df_together_02['itemsets']:\n",
    "    for vehicle in list_vehicle_together:\n",
    "        df_vehicle.loc[(df_vehicle['vehicle']==vehicle),'label']= 1"
   ]
  },
  {
   "cell_type": "code",
   "execution_count": null,
   "metadata": {},
   "outputs": [],
   "source": [
    "df_vehicle"
   ]
  },
  {
   "cell_type": "code",
   "execution_count": null,
   "metadata": {},
   "outputs": [],
   "source": [
    "df_vehicle[df_vehicle['label']==1]"
   ]
  },
  {
   "cell_type": "code",
   "execution_count": null,
   "metadata": {},
   "outputs": [],
   "source": [
    "df_vehicle[df_vehicle['label']==1]['vehicle'].unique()"
   ]
  },
  {
   "cell_type": "code",
   "execution_count": 56,
   "metadata": {},
   "outputs": [],
   "source": [
    "# %%time\n",
    "# dict_vehicle = {}\n",
    "# for list_vehicle_together in df_together_02['itemsets']:\n",
    "#     for vehicle in list_vehicle_together:\n",
    "#         dict_vehicle[vehicle] = 0\n",
    "# for list_vehicle_together in df_together_02['itemsets']:\n",
    "#     vehicle_0 = list_vehicle_together[0]\n",
    "#     vehicle_1 = list_vehicle_together[1]\n",
    "#     print(vehicle_0,',',vehicle_1)\n",
    "#     if dict_vehicle[vehicle_0] == 0 and dict_vehicle[vehicle_1] == 0:\n",
    "#         print(dict_vehicle[vehicle_0])\n",
    "#         df_vehicle.loc[(df_vehicle['vehicle'] == vehicle_0),'label']= dict_label_vehicle[vehicle_1]\n",
    "#     elif dict_vehicle[vehicle_0] == 1 and dict_vehicle[vehicle_1] == 0:\n",
    "#         df_vehicle.loc[(df_vehicle['vehicle'] == vehicle_1),'label']= dict_label_vehicle[vehicle_0]\n",
    "#     elif dict_vehicle[vehicle_0] == 0 and dict_vehicle[vehicle_1] == 1:\n",
    "#         df_vehicle.loc[(df_vehicle['vehicle'] == vehicle_0),'label'] = dict_label_vehicle[vehicle_1]\n",
    "#     dict_vehicle[vehicle_0] = 1\n",
    "#     dict_vehicle[vehicle_1] = 1"
   ]
  },
  {
   "cell_type": "code",
   "execution_count": 50,
   "metadata": {},
   "outputs": [
    {
     "data": {
      "text/plain": [
       "5707"
      ]
     },
     "execution_count": 50,
     "metadata": {},
     "output_type": "execute_result"
    }
   ],
   "source": [
    "len(df_vehicle.label.unique())"
   ]
  },
  {
   "cell_type": "code",
   "execution_count": 51,
   "metadata": {},
   "outputs": [
    {
     "data": {
      "text/plain": [
       "5856"
      ]
     },
     "execution_count": 51,
     "metadata": {},
     "output_type": "execute_result"
    }
   ],
   "source": [
    "len(df_vehicle.vehicle.unique())"
   ]
  },
  {
   "cell_type": "code",
   "execution_count": 52,
   "metadata": {},
   "outputs": [],
   "source": [
    "df_together_02.to_csv('df_together_02.csv')"
   ]
  },
  {
   "cell_type": "code",
   "execution_count": 63,
   "metadata": {},
   "outputs": [
    {
     "name": "stdout",
     "output_type": "stream",
     "text": [
      "Wall time: 2.23 s\n"
     ]
    }
   ],
   "source": [
    "%%time\n",
    "df_vehicle.to_csv('data_train_22032021.csv')"
   ]
  },
  {
   "cell_type": "code",
   "execution_count": null,
   "metadata": {},
   "outputs": [],
   "source": []
  }
 ],
 "metadata": {
  "kernelspec": {
   "display_name": "Python 3",
   "language": "python",
   "name": "python3"
  },
  "language_info": {
   "codemirror_mode": {
    "name": "ipython",
    "version": 3
   },
   "file_extension": ".py",
   "mimetype": "text/x-python",
   "name": "python",
   "nbconvert_exporter": "python",
   "pygments_lexer": "ipython3",
   "version": "3.8.5"
  }
 },
 "nbformat": 4,
 "nbformat_minor": 4
}
